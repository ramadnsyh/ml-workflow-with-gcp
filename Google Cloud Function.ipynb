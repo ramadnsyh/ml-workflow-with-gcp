{
 "cells": [
  {
   "cell_type": "code",
   "execution_count": 1,
   "metadata": {
    "ExecuteTime": {
     "end_time": "2020-07-09T12:11:06.091573Z",
     "start_time": "2020-07-09T12:11:03.187196Z"
    }
   },
   "outputs": [],
   "source": [
    "import os\n",
    "from google.cloud import storage\n",
    "from google.oauth2 import service_account\n",
    "from ast import literal_eval\n",
    "import pandas as pd\n",
    "from io import BytesIO, StringIO\n",
    "import pickle\n",
    "import pandas as pd"
   ]
  },
  {
   "cell_type": "markdown",
   "metadata": {},
   "source": [
    "# Environment"
   ]
  },
  {
   "cell_type": "code",
   "execution_count": 2,
   "metadata": {
    "ExecuteTime": {
     "end_time": "2020-07-09T12:11:07.349104Z",
     "start_time": "2020-07-09T12:11:07.325998Z"
    }
   },
   "outputs": [],
   "source": [
    "# settings.py\n",
    "import os\n",
    "from dotenv import load_dotenv\n",
    "load_dotenv()\n",
    "\n",
    "PROJECT_ID = os.environ.get(\"PROJECT_ID\")\n",
    "PROJECT_NAME = os.environ.get(\"PROJECT_NAME\")\n",
    "BUCKET_NAME = os.environ.get(\"BUCKET_NAME\")\n",
    "PROJECT_ID, BUCKET_NAME, PROJECT_NAME\n",
    "credential = service_account.Credentials.from_service_account_info(literal_eval(os.environ.get(\"CREDENTIAL\")))\n",
    "client = storage.Client(project=PROJECT_NAME, credentials=credential)"
   ]
  },
  {
   "cell_type": "markdown",
   "metadata": {},
   "source": [
    "# Load Model"
   ]
  },
  {
   "cell_type": "code",
   "execution_count": null,
   "metadata": {
    "ExecuteTime": {
     "end_time": "2020-07-09T10:26:59.241829Z",
     "start_time": "2020-07-09T10:26:57.667836Z"
    }
   },
   "outputs": [],
   "source": [
    "def load_model_from_storage(model_path):\n",
    "    bucket = client.get_bucket(BUCKET_NAME)\n",
    "    blob = bucket.get_blob(model_path) # File path @CloudStorage\n",
    "    # blob.download_to_filename(\"data/diabetes_gcs.csv\") # Download to local\n",
    "    gcs_model = pickle.load(BytesIO(blob.download_as_string()))\n",
    "    return gcs_model\n",
    "\n",
    "model = load_model_from_storage(\"model/logreg.pkl\")"
   ]
  },
  {
   "cell_type": "markdown",
   "metadata": {},
   "source": [
    "# Read Dataset"
   ]
  },
  {
   "cell_type": "code",
   "execution_count": null,
   "metadata": {
    "ExecuteTime": {
     "end_time": "2020-07-09T10:27:00.726976Z",
     "start_time": "2020-07-09T10:27:00.349331Z"
    }
   },
   "outputs": [],
   "source": [
    "def read_dataset(input_file):\n",
    "    bucket = client.get_bucket(BUCKET_NAME)\n",
    "    blob = bucket.get_blob(input_file) # File path @CloudStorage\n",
    "    # blob.download_to_filename(\"data/diabetes_gcs.csv\") # Download to local\n",
    "    df = pd.read_csv(BytesIO(blob.download_as_string()))\n",
    "    return df\n",
    "df = read_dataset(\"input/diabetes.csv\")\n",
    "df.head()"
   ]
  },
  {
   "cell_type": "markdown",
   "metadata": {},
   "source": [
    "# Save to Storage"
   ]
  },
  {
   "cell_type": "code",
   "execution_count": null,
   "metadata": {
    "ExecuteTime": {
     "end_time": "2020-07-09T10:27:02.877062Z",
     "start_time": "2020-07-09T10:27:02.859813Z"
    }
   },
   "outputs": [],
   "source": [
    "df[\"prediction\"] = model.predict(df)"
   ]
  },
  {
   "cell_type": "code",
   "execution_count": null,
   "metadata": {
    "ExecuteTime": {
     "end_time": "2020-07-09T10:27:08.634822Z",
     "start_time": "2020-07-09T10:27:08.457317Z"
    }
   },
   "outputs": [],
   "source": [
    "def save_result_to_storage(df, file_name):\n",
    "    df_new = df.to_csv(index=False)\n",
    "    content_type = \"text/csv\" if \".csv\" in file_name else \"text/plain\"\n",
    "    bucket = client.get_bucket(BUCKET_NAME)\n",
    "    blob = bucket.blob(file_name) # File path @CloudStorage\n",
    "    blob.upload_from_string(df_new, content_type=content_type) # File path @Local\n",
    "\n",
    "save_result_to_storage(df, \"output/result.csv\")"
   ]
  },
  {
   "cell_type": "markdown",
   "metadata": {},
   "source": [
    "# Calling Cloud Function"
   ]
  },
  {
   "cell_type": "code",
   "execution_count": 3,
   "metadata": {
    "ExecuteTime": {
     "end_time": "2020-07-09T12:11:14.449640Z",
     "start_time": "2020-07-09T12:11:11.351718Z"
    }
   },
   "outputs": [
    {
     "name": "stdout",
     "output_type": "stream",
     "text": [
      "200\n"
     ]
    }
   ],
   "source": [
    "from google.auth.transport.requests import AuthorizedSession\n",
    "\n",
    "URL = os.environ.get(\"GCF_URL\")\n",
    "CREDENTIAL_PATH = os.environ.get(\"CREDENTIAL_PATH\")\n",
    "creds = service_account.IDTokenCredentials.from_service_account_file(CREDENTIAL_PATH, target_audience=URL)\n",
    "authed_session = AuthorizedSession(creds)\n",
    "\n",
    "# make authenticated request and print the response, status_code\n",
    "resp = authed_session.get(URL)\n",
    "print(resp.status_code)"
   ]
  }
 ],
 "metadata": {
  "kernelspec": {
   "display_name": "Python [conda env:jcop]",
   "language": "python",
   "name": "conda-env-jcop-py"
  },
  "language_info": {
   "codemirror_mode": {
    "name": "ipython",
    "version": 3
   },
   "file_extension": ".py",
   "mimetype": "text/x-python",
   "name": "python",
   "nbconvert_exporter": "python",
   "pygments_lexer": "ipython3",
   "version": "3.6.7"
  },
  "varInspector": {
   "cols": {
    "lenName": 16,
    "lenType": 16,
    "lenVar": 40
   },
   "kernels_config": {
    "python": {
     "delete_cmd_postfix": "",
     "delete_cmd_prefix": "del ",
     "library": "var_list.py",
     "varRefreshCmd": "print(var_dic_list())"
    },
    "r": {
     "delete_cmd_postfix": ") ",
     "delete_cmd_prefix": "rm(",
     "library": "var_list.r",
     "varRefreshCmd": "cat(var_dic_list()) "
    }
   },
   "types_to_exclude": [
    "module",
    "function",
    "builtin_function_or_method",
    "instance",
    "_Feature"
   ],
   "window_display": false
  }
 },
 "nbformat": 4,
 "nbformat_minor": 2
}
